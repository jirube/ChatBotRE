{
  "nbformat": 4,
  "nbformat_minor": 0,
  "metadata": {
    "colab": {
      "name": "P.A.M 3.0.ipynb",
      "provenance": [],
      "collapsed_sections": [
        "V4XkBJsLDr1l"
      ]
    },
    "kernelspec": {
      "name": "python3",
      "display_name": "Python 3"
    },
    "accelerator": "GPU"
  },
  "cells": [
    {
      "cell_type": "markdown",
      "metadata": {
        "id": "V4XkBJsLDr1l",
        "colab_type": "text"
      },
      "source": [
        "#Librería Request"
      ]
    },
    {
      "cell_type": "code",
      "metadata": {
        "id": "IrwaROUomPzS",
        "colab_type": "code",
        "colab": {
          "base_uri": "https://localhost:8080/"
        },
        "outputId": "bc016a67-b6c6-4ff8-815a-3feb3c5ee88d"
      },
      "source": [
        "!pip install requests"
      ],
      "execution_count": null,
      "outputs": [
        {
          "output_type": "stream",
          "text": [
            "Requirement already satisfied: requests in /usr/local/lib/python3.6/dist-packages (2.23.0)\n",
            "Requirement already satisfied: chardet<4,>=3.0.2 in /usr/local/lib/python3.6/dist-packages (from requests) (3.0.4)\n",
            "Requirement already satisfied: idna<3,>=2.5 in /usr/local/lib/python3.6/dist-packages (from requests) (2.10)\n",
            "Requirement already satisfied: urllib3!=1.25.0,!=1.25.1,<1.26,>=1.21.1 in /usr/local/lib/python3.6/dist-packages (from requests) (1.24.3)\n",
            "Requirement already satisfied: certifi>=2017.4.17 in /usr/local/lib/python3.6/dist-packages (from requests) (2020.6.20)\n"
          ],
          "name": "stdout"
        }
      ]
    },
    {
      "cell_type": "markdown",
      "metadata": {
        "id": "9N3Eta7wD09w",
        "colab_type": "text"
      },
      "source": [
        "#Métodos del ChatBot"
      ]
    },
    {
      "cell_type": "code",
      "metadata": {
        "id": "sJzFSJnDr2nb",
        "colab_type": "code",
        "colab": {}
      },
      "source": [
        "#Importar librerias\n",
        "import json\n",
        "import requests\n",
        "import random\n",
        "import cv2 #Libreria para la detección de rostros. entre otras cosas\n",
        "#import os\n",
        "\n",
        "#Variables para el Token y la URL del chatbot\n",
        "TOKEN = \"############################\"\n",
        "URL = \"https://api.telegram.org/bot\" + TOKEN + \"/\"\n",
        "\n",
        "#Deteccion de Emociones (Son los metodos por los cuales se puede identificar las emociones, el mas eficaz a mi parecer el FisherFaces)\n",
        "#method = 'EigenFaces'\n",
        "method = 'FisherFaces'\n",
        "#method = 'LBPH'\n",
        "\n",
        "if method == 'EigenFaces': emotion_recognizer = cv2.face.EigenFaceRecognizer_create()\n",
        "if method == 'FisherFaces': emotion_recognizer = cv2.face.FisherFaceRecognizer_create() #Parte del codigo que sirve con el metodo para la deteccion de rostros\n",
        "if method == 'LBPH': emotion_recognizer = cv2.face.LBPHFaceRecognizer_create()\n",
        "\n",
        "emotion_recognizer.read('/content/drive/My Drive/Modelos2/modelo'+method+'.xml') #Lectura del modelo pre-entrenado\n",
        "faceClassif = cv2.CascadeClassifier(cv2.data.haarcascades+'haarcascade_frontalface_default.xml') \n",
        "\n",
        "def update(offset):\n",
        "    #Llamar al metodo getUpdates del bot, utilizando un offset\n",
        "    respuesta = requests.get(URL + \"getUpdates\" + \"?offset=\" + str(offset) + \"&timeout=\" + str(100))\n",
        "    \n",
        "    #Decodificar la respuesta recibida a formato UTF8\n",
        "    mensajes_js = respuesta.content.decode(\"utf8\")\n",
        " \n",
        "    #Convertir el string de JSON a un diccionario de Python\n",
        "    mensajes_diccionario = json.loads(mensajes_js)\n",
        " \n",
        "    #Devolver este diccionario\n",
        "    return mensajes_diccionario\n",
        "\n",
        "def updateFoto(id):\n",
        "    #Llamar al metodo getFile del bot\n",
        "    respuestaF = requests.get(URL + \"getFile?file_id=\" + str(id))\n",
        "    \n",
        "    #Decodificar la respuesta recibida a formato UTF8\n",
        "    mensajesF_js = respuestaF.content.decode(\"utf8\")\n",
        " \n",
        "    #Convertir el string de JSON a un diccionario de Python\n",
        "    mensajesF_diccionario = json.loads(mensajesF_js)\n",
        " \n",
        "    #Descargar imagen\n",
        "    file_path= mensajesF_diccionario[\"result\"][\"file_path\"]\n",
        "    imagen = requests.get(\"https://api.telegram.org/file/bot############################/\"+str(file_path)).content\n",
        "    with open(\"imagen.jpg\",'wb') as handler:\n",
        "      handler.write(imagen)\n",
        "\n",
        "def info_mensaje(mensaje):\n",
        " \n",
        "    #Comprobar el tipo de mensaje\n",
        "    if \"text\" in mensaje[\"message\"]:\n",
        "        tipo = \"texto\"\n",
        "    elif \"sticker\" in mensaje[\"message\"]:\n",
        "        tipo = \"sticker\"\n",
        "    elif \"animation\" in mensaje[\"message\"]:\n",
        "        tipo = \"animacion\" #Nota: GIF son animaciones\n",
        "    elif \"photo\" in mensaje[\"message\"]:\n",
        "        tipo = \"foto\"\n",
        "        id_file= mensaje[\"message\"][\"photo\"][0][\"file_id\"]\n",
        "        mensajesF_diccionario= updateFoto(id_file)\n",
        "    else:\n",
        "        tipo = \"otro\" # el resto de tipos entra en la categoria \"otro\"\n",
        " \n",
        "    #Recoger la info del mensaje (remitente, id del chat e id del mensaje)\n",
        "    nombre = mensaje[\"message\"][\"from\"][\"first_name\"]\n",
        "    id_chat = mensaje[\"message\"][\"chat\"][\"id\"]\n",
        "    id_update = mensaje[\"update_id\"]\n",
        "    if \"username\" in mensaje[\"message\"][\"from\"]:\n",
        "      usuario= mensaje[\"message\"][\"from\"][\"username\"]\n",
        "      msg=\"Ir al chat: t.me/\"+usuario\n",
        "    else:\n",
        "      usuario=nombre\n",
        "      msg=\"---------------------------------------------\\nNueva Alerta\\n\\nUsuario: \"+usuario+\"\\n\\nHa intentado realizar un proceso pero no cuenta con un ID de Usuario.\\n\\nSe notificó al usuario que asigne el ID y vuelva a intentar.\\n---------------------------------------------\"\n",
        "      requests.get(URL + \"sendMessage?text=\" + msg + \"&chat_id=-1001146542990\")\n",
        "     \n",
        "    #Devolver toda la informacion\n",
        "    return tipo, id_chat, nombre, id_update, usuario, msg\n",
        " \n",
        "def leer_mensaje(mensaje):\n",
        " \n",
        "    #Extraer el texto, nombre de la persona e id del último mensaje recibido\n",
        "    texto = mensaje[\"message\"][\"text\"]\n",
        " \n",
        "    #Devolver las dos id, el nombre y el texto del mensaje\n",
        "    return texto\n",
        " \n",
        "def enviar_mensaje(idchat, texto):\n",
        "    #Llamar el metodo sendMessage del bot, passando el texto y la id del chat\n",
        "    requests.get(URL + \"sendMessage?text=\" + texto + \"&chat_id=\" + str(idchat))\n",
        " \n",
        "def enviar_foto(idchat, texto, imagen):\n",
        "    #Llamar el metodo sendMessage del bot, passando el texto y la id del chat\n",
        "    requests.get(URL + \"sendPhoto?chat_id=\" + str(idchat) + \"&caption=\"+ str(texto) + \"&photo=\" + str(imagen) )\n",
        "\n",
        "def notificar(notificacion):\n",
        "    #Llamar el metodo sendMessage del bot, passando el texto y la id del chat\n",
        "    requests.get(URL + \"sendMessage?chat_id=############################&text=\"+notificacion)\n",
        "\n",
        "def ReconocerEmocion(idchat):\n",
        "    image = cv2.imread('/content/imagen.jpg')\n",
        "    gray = cv2.cvtColor(image, cv2.COLOR_BGR2GRAY)\n",
        "    auxFrame=gray.copy()\n",
        "    faces = faceClassif.detectMultiScale(gray,1.3,5)\n",
        "    if len(faces) == 0:\n",
        "      texto=\"¡Error!\\nNo se ha podido reconocer tu rostro, esto podría deberse a:\\n1. Condiciones de poca luz.\\n2. Baja calidad/resolución.\\n3. Uso de algun accesorio que dificulta el reconocimiento facial.\"\n",
        "      requests.get(URL + \"sendMessage?chat_id=\"+ str(idchat) +\"&text=\"+texto)\n",
        "    elif len(faces) == 1:\n",
        "      for (x,y,w,h) in faces:\n",
        "          rostro = auxFrame[y:y+h,x:x+w]\n",
        "          rostro = cv2.resize(rostro,(150,150),interpolation= cv2.INTER_CUBIC)\n",
        "          result = emotion_recognizer.predict(rostro)\n",
        "          print(str(result))\n",
        "          if method == 'EigenFaces': P=5700\n",
        "          if method == 'FisherFaces': P=500\n",
        "          if method == 'LBPH': P=60\n",
        "          #if result[0] == 0 and result[1] < P:\n",
        "          #  texto=\"Dudoso:\\n¿Pensando mucho el día de hoy?\"\n",
        "          if result[0] == 0 and result[1] < P:\n",
        "            texto=\"Enojo:\\n¿Mucha ira? Respira y tranquilizate un poco.\"\n",
        "          elif result[0] == 1 and result[1] < P:\n",
        "            texto=\"Felicidad:\\nDebe ser un buen día para andar con esa alegría. :D\"\n",
        "          elif result[0] == 2 and result[1] < P:\n",
        "            texto=\"Sorpresa:\\n¿Sorprendido? Debe ser por algo impactante!\"\n",
        "          elif result[0] == 3 and result[1] < P:\n",
        "            texto=\"Tristeza:\\n¿Por qué esa cara? Sonríe que en la vida no hay tiempo para estar triste.\"\n",
        "          else:\n",
        "            texto=\"¡Error!\\nAlgunos factores pueden estar impidiendo reconocer tu emoción:\\n1. Condiciones de poca luz.\\n2. Baja calidad/resolución.\\n3. Quizá no estas viendo de frente a la cámara o estas usando algun accesorio.\"\n",
        "          requests.get(URL + \"sendMessage?chat_id=\"+ str(idchat) +\"&text=\"+texto)\n",
        "          \n",
        "    else:\n",
        "      texto=\"¡Advertencia! La detección de emociones no funciona con multiples rostros. (Se detectaron \"+str(len(faces))+\" para ser exactos)\"\n",
        "      requests.get(URL + \"sendMessage?chat_id=\"+ str(idchat) +\"&text=\"+texto)"
      ],
      "execution_count": null,
      "outputs": []
    },
    {
      "cell_type": "markdown",
      "metadata": {
        "id": "jqNZXlGzD-3K",
        "colab_type": "text"
      },
      "source": [
        "#Estructura/Funciones del Chatbot"
      ]
    },
    {
      "cell_type": "code",
      "metadata": {
        "id": "7KXTuelEa5nm",
        "colab_type": "code",
        "colab": {
          "base_uri": "https://localhost:8080/",
          "height": 68
        },
        "outputId": "24f3f0b3-afbb-4201-c491-da351b6767e9"
      },
      "source": [
        "#Variable para almacenar la ID del ultimo mensaje procesado\n",
        "ultima_id = 0\n",
        "Memoria= {}\n",
        "MCodigo= {}\n",
        "texto=\"\"\n",
        "while(True):\n",
        "    mensajes_diccionario = update(ultima_id)\n",
        "    r1 = random.randint(0, 100)\n",
        "    for i in mensajes_diccionario[\"result\"]:\n",
        " \n",
        "        #Guardar la informacion del mensaje\n",
        "        tipo, idchat, nombre, id_update, usuario, msg = info_mensaje(i)\n",
        "        #print(idchat)\n",
        "        \n",
        "        #Memoria del Chatbot 3.0\n",
        "        Memoria.update(Memoria.fromkeys(['/menu','menu','menú','/menú'],'\\n¡Vamos a empezar!\\nEnviame una foto de tu rostro (o la de alguien más) y determinaré tu emoción :D'))\n",
        "        Memoria.update(Memoria.fromkeys(['/start','start'],'¡Bienvenid@!\\nSoy P.A.M Tu Asistente Virtual de Detección de Emociones.'+Memoria['menu']))\n",
        "        Memoria.update(Memoria.fromkeys(['ayuda','/ayuda'],'\\n¿Algún problema con la detección de emociones? Digita SOPORTE y una agente se pondra en contacto contigo lo antes posible.\\n\\n-Administración P.A.M.'))\n",
        "        Memoria.update(Memoria.fromkeys(['/hola','hola','ola'],\"Hola, \"+nombre+\"!\"+Memoria['menu']))\n",
        "        Memoria.update(Memoria.fromkeys(['/adios','adios','adiós'],\"Hasta pronto!, \"+nombre))\n",
        "        Memoria.update(Memoria.fromkeys(['/soporte','soporte'],\"Se ha generado el Ticket de Soporte\\n(Ticket N° \"+str(id_update)+\")\\n\\n¡La ayuda está en camino!\\nNuestro equipo se contactará con usted lo antes posible.\\n\\n-Administración P.A.M.\"))\n",
        "        MCodigo.update(MCodigo.fromkeys(['/soporte','/comprar','comprar','soporte'],\"https://qrcode.tec-it.com/API/QRCode?data=Proceso%20N°:%20\"+str(id_update)+\"&errorcorrection=H\"))\n",
        "        Memoria.update(Memoria.fromkeys(['gracias','entendido','muchas gracias','gracias por todo'],\"Un placer haberte asistido, hasta otra.\"))\n",
        " \n",
        "        #Generar una respuesta dependiendo del tipo de mensaje\n",
        "        if tipo == \"texto\":\n",
        "            texto = leer_mensaje(i)\n",
        "            if Memoria.get(texto.lower())!=None:\n",
        "              if texto.lower() in MCodigo:\n",
        "                texto_respuesta=Memoria.get(texto.lower())\n",
        "                imagen=MCodigo.get(texto.lower())\n",
        "                if idchat!=############################ and \"username\" in i[\"message\"][\"from\"]:\n",
        "                  if texto.lower()==\"soporte\" or texto.lower()==\"/soporte\":\n",
        "                    notificacion=\"---------------------------------------------\\nNuevo Ticket\\n\\nUsuario: \"+nombre+\"\\n(\"+msg+\")\\n\\nHa abierto un Ticket de Soporte:\\nTicket N°: \"+ str(id_update) +\"\\n\\nAtender en lo antes posible.\\n---------------------------------------------\"\n",
        "                  notificar(notificacion)\n",
        "              else:\n",
        "                texto_respuesta=Memoria.get(texto.lower())\n",
        "            else:\n",
        "              texto_respuesta=\"Lo siento no conozco el termino:\\n\" + str(texto) + \"\\n\\n¿Necesitas algo?\\nDigita AYUDA para ser asistido.\"\n",
        "              \n",
        "        elif tipo == \"sticker\":\n",
        "            texto_respuesta = \"Su sticker es \"+ str(r1) + \"% Bonito\"\n",
        "        elif tipo == \"animacion\":\n",
        "            texto_respuesta = \"Me gusta este GIF!\"\n",
        "        elif tipo == \"foto\":\n",
        "            texto_respuesta = \"¿Buscas algo relacionado a la imagen?\\nDigita AYUDA para ser asistido.\"\n",
        "        elif tipo == \"otro\":\n",
        "            texto_respuesta = \"¿Necesitas algo?\\nDigita AYUDA para ser asistido.\"\n",
        " \n",
        "        #Si la ID del mensaje es mayor que el ultimo, se guarda la ID + 1\n",
        "        if id_update > (ultima_id-1):\n",
        "            ultima_id = id_update + 1\n",
        " \n",
        "        #Enviar la respuesta\n",
        "        if texto.lower() in MCodigo:\n",
        "          if \"username\" in i[\"message\"][\"from\"]:\n",
        "            enviar_foto(idchat, texto_respuesta, imagen)\n",
        "          else:\n",
        "            enviar_mensaje(idchat, \"¡Error al completar el proceso!\\nSu cuenta no tiene asignado un ID de Usuario, por lo que le recomendamos asigne uno y vuelva realizar el proceso.\\n\\nEnlaces de Interes:\\n\\nWeb: https://moviltoday.com/elegir-nombre-de-usuario-telegram/\\n\\nMovil: https://www.xataka.com/basics/como-usar-telegram-numero-telefono\\n\\n-Administración P.A.M\")\n",
        "        elif tipo==\"foto\":\n",
        "          ReconocerEmocion(idchat)\n",
        "        else:\n",
        "          enviar_mensaje(idchat, texto_respuesta)\n",
        "        \n",
        "                     \n",
        "    #Vaciar\n",
        "    mensajes_diccionario = []\n",
        "    Memoria = {}\n",
        "    MCodigo = {}\n",
        "    texto=\"\""
      ],
      "execution_count": null,
      "outputs": [
        {
          "output_type": "stream",
          "text": [
            "(1, 72.72549162159679)\n",
            "(3, 83.19435050520839)\n",
            "(3, 206.37390913299728)\n"
          ],
          "name": "stdout"
        }
      ]
    }
  ]
}